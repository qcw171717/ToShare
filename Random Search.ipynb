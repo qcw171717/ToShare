{
 "cells": [
  {
   "cell_type": "markdown",
   "metadata": {},
   "source": [
    "## RandomSearchCV"
   ]
  },
  {
   "cell_type": "code",
   "execution_count": 1,
   "metadata": {},
   "outputs": [],
   "source": [
    "import pandas as pd\n",
    "import itertools\n",
    "import time\n",
    "import numpy as np\n",
    "from sklearn.metrics import accuracy_score\n",
    "from sklearn import datasets\n",
    "from sklearn.model_selection import RandomizedSearchCV\n",
    "from sklearn.linear_model import LogisticRegression\n",
    "from scipy.stats import uniform"
   ]
  },
  {
   "cell_type": "code",
   "execution_count": 2,
   "metadata": {},
   "outputs": [],
   "source": [
    "import warnings\n",
    "warnings.filterwarnings('ignore')"
   ]
  },
  {
   "cell_type": "code",
   "execution_count": 3,
   "metadata": {},
   "outputs": [],
   "source": [
    "# load data\n",
    "iris = datasets.load_iris()\n",
    "\n",
    "# define model and search space\n",
    "logistic = LogisticRegression(solver='saga', tol=1e-2, max_iter=200,\n",
    "                              random_state=0)\n",
    "distributions = dict(C=uniform(loc=0, scale=4),\n",
    "                     penalty=['l2', 'l1'])\n",
    "clf = RandomizedSearchCV(logistic, distributions, n_iter=5, cv=5, random_state=0)"
   ]
  },
  {
   "cell_type": "code",
   "execution_count": 4,
   "metadata": {},
   "outputs": [],
   "source": [
    "search = clf.fit(iris.data, iris.target)"
   ]
  },
  {
   "cell_type": "code",
   "execution_count": 5,
   "metadata": {},
   "outputs": [
    {
     "data": {
      "text/plain": [
       "{'mean_fit_time': array([0.00468955, 0.00311785, 0.00306005, 0.00278425, 0.00272245]),\n",
       " 'std_fit_time': array([0.0015846 , 0.00027642, 0.00044899, 0.00025228, 0.00025534]),\n",
       " 'mean_score_time': array([0.0053915 , 0.00026622, 0.00027857, 0.00023961, 0.00023375]),\n",
       " 'std_score_time': array([1.01584193e-02, 5.38972818e-05, 2.90685345e-05, 4.14867510e-05,\n",
       "        3.56770441e-05]),\n",
       " 'param_C': masked_array(data=[2.195254015709299, 3.3770629943240693,\n",
       "                    2.1795327319875875, 2.4942547871438894,\n",
       "                    1.75034884505077],\n",
       "              mask=[False, False, False, False, False],\n",
       "        fill_value='?',\n",
       "             dtype=object),\n",
       " 'param_penalty': masked_array(data=['l1', 'l1', 'l1', 'l2', 'l2'],\n",
       "              mask=[False, False, False, False, False],\n",
       "        fill_value='?',\n",
       "             dtype=object),\n",
       " 'params': [{'C': 2.195254015709299, 'penalty': 'l1'},\n",
       "  {'C': 3.3770629943240693, 'penalty': 'l1'},\n",
       "  {'C': 2.1795327319875875, 'penalty': 'l1'},\n",
       "  {'C': 2.4942547871438894, 'penalty': 'l2'},\n",
       "  {'C': 1.75034884505077, 'penalty': 'l2'}],\n",
       " 'split0_test_score': array([1., 1., 1., 1., 1.]),\n",
       " 'split1_test_score': array([0.96666667, 0.96666667, 0.96666667, 0.96666667, 0.96666667]),\n",
       " 'split2_test_score': array([0.93333333, 0.93333333, 0.93333333, 0.93333333, 0.93333333]),\n",
       " 'split3_test_score': array([0.93333333, 0.93333333, 0.93333333, 0.9       , 0.9       ]),\n",
       " 'split4_test_score': array([1., 1., 1., 1., 1.]),\n",
       " 'mean_test_score': array([0.96666667, 0.96666667, 0.96666667, 0.96      , 0.96      ]),\n",
       " 'std_test_score': array([0.02981424, 0.02981424, 0.02981424, 0.03887301, 0.03887301]),\n",
       " 'rank_test_score': array([1, 1, 1, 4, 4], dtype=int32)}"
      ]
     },
     "execution_count": 5,
     "metadata": {},
     "output_type": "execute_result"
    }
   ],
   "source": [
    "search.cv_results_"
   ]
  },
  {
   "cell_type": "markdown",
   "metadata": {},
   "source": [
    "## Manual Implementation"
   ]
  },
  {
   "cell_type": "code",
   "execution_count": 6,
   "metadata": {},
   "outputs": [],
   "source": [
    "df = pd.DataFrame(iris.data)\n",
    "df.columns = iris.feature_names\n",
    "df = df.join(pd.DataFrame(iris.target).rename(columns={0 : \"target\"}))"
   ]
  },
  {
   "cell_type": "code",
   "execution_count": 7,
   "metadata": {},
   "outputs": [
    {
     "data": {
      "text/html": [
       "<div>\n",
       "<style scoped>\n",
       "    .dataframe tbody tr th:only-of-type {\n",
       "        vertical-align: middle;\n",
       "    }\n",
       "\n",
       "    .dataframe tbody tr th {\n",
       "        vertical-align: top;\n",
       "    }\n",
       "\n",
       "    .dataframe thead th {\n",
       "        text-align: right;\n",
       "    }\n",
       "</style>\n",
       "<table border=\"1\" class=\"dataframe\">\n",
       "  <thead>\n",
       "    <tr style=\"text-align: right;\">\n",
       "      <th></th>\n",
       "      <th>sepal length (cm)</th>\n",
       "      <th>sepal width (cm)</th>\n",
       "      <th>petal length (cm)</th>\n",
       "      <th>petal width (cm)</th>\n",
       "      <th>target</th>\n",
       "    </tr>\n",
       "  </thead>\n",
       "  <tbody>\n",
       "    <tr>\n",
       "      <th>0</th>\n",
       "      <td>5.1</td>\n",
       "      <td>3.5</td>\n",
       "      <td>1.4</td>\n",
       "      <td>0.2</td>\n",
       "      <td>0</td>\n",
       "    </tr>\n",
       "    <tr>\n",
       "      <th>1</th>\n",
       "      <td>4.9</td>\n",
       "      <td>3.0</td>\n",
       "      <td>1.4</td>\n",
       "      <td>0.2</td>\n",
       "      <td>0</td>\n",
       "    </tr>\n",
       "    <tr>\n",
       "      <th>2</th>\n",
       "      <td>4.7</td>\n",
       "      <td>3.2</td>\n",
       "      <td>1.3</td>\n",
       "      <td>0.2</td>\n",
       "      <td>0</td>\n",
       "    </tr>\n",
       "    <tr>\n",
       "      <th>3</th>\n",
       "      <td>4.6</td>\n",
       "      <td>3.1</td>\n",
       "      <td>1.5</td>\n",
       "      <td>0.2</td>\n",
       "      <td>0</td>\n",
       "    </tr>\n",
       "    <tr>\n",
       "      <th>4</th>\n",
       "      <td>5.0</td>\n",
       "      <td>3.6</td>\n",
       "      <td>1.4</td>\n",
       "      <td>0.2</td>\n",
       "      <td>0</td>\n",
       "    </tr>\n",
       "  </tbody>\n",
       "</table>\n",
       "</div>"
      ],
      "text/plain": [
       "   sepal length (cm)  sepal width (cm)  petal length (cm)  petal width (cm)  \\\n",
       "0                5.1               3.5                1.4               0.2   \n",
       "1                4.9               3.0                1.4               0.2   \n",
       "2                4.7               3.2                1.3               0.2   \n",
       "3                4.6               3.1                1.5               0.2   \n",
       "4                5.0               3.6                1.4               0.2   \n",
       "\n",
       "   target  \n",
       "0       0  \n",
       "1       0  \n",
       "2       0  \n",
       "3       0  \n",
       "4       0  "
      ]
     },
     "execution_count": 7,
     "metadata": {},
     "output_type": "execute_result"
    }
   ],
   "source": [
    "df.head()"
   ]
  },
  {
   "cell_type": "code",
   "execution_count": 8,
   "metadata": {},
   "outputs": [],
   "source": [
    "cv_result_dict = {'params' : [], # list(itertools.product(*[parameters[k] for k in parameters]))\n",
    "                 'mean_fit_times' : [],\n",
    "                 'fold_0_scores' : [],\n",
    "                 'fold_1_scores' : [],\n",
    "                 'fold_2_scores' : [],\n",
    "                 'fold_3_scores' : [],\n",
    "                 'fold_4_scores' : [],\n",
    "                 'mean_scores' : [],\n",
    "                 'scores_std' : []}"
   ]
  },
  {
   "cell_type": "code",
   "execution_count": 9,
   "metadata": {},
   "outputs": [],
   "source": [
    "for param in range(20):\n",
    "    # generate the random parameters for this iteration\n",
    "    rand_C = uniform.rvs(loc=0, scale=4)\n",
    "    rand_penalty = np.random.choice(['l2', 'l1'])\n",
    "    \n",
    "    this_model = LogisticRegression(solver='saga', tol=1e-2, max_iter=200,\n",
    "                                    C=rand_C, penalty=rand_penalty, random_state=0)\n",
    "    this_param_fit_times = []\n",
    "    this_param_scores = []\n",
    "    for fold in range(5):\n",
    "        curr_split_test_df = df[df['target']==0][fold*10 : (fold+1) * 10].append(\\\n",
    "                   df[df['target']==1][fold*10 : (fold+1) * 10]).append(\\\n",
    "                   df[df['target']==2][fold*10 : (fold+1) * 10])\n",
    "        # relative complement: df \\ curr_split_test_df\n",
    "        curr_split_train_df = df[~df.index.isin(curr_split_test_df.index)] \n",
    "        \n",
    "        start = time.clock()\n",
    "        this_model.fit(curr_split_train_df.drop(columns=['target']),\n",
    "                       curr_split_train_df['target'])\n",
    "        end = time.clock()\n",
    "        this_param_fit_times.append(end - start)\n",
    "        pred = this_model.predict(curr_split_test_df.drop(columns=['target']))\n",
    "        \n",
    "        # append score to the respective parameter-fold records\n",
    "        score = round(accuracy_score(curr_split_test_df['target'], pred), 2)\n",
    "        this_param_scores.append(score)\n",
    "        cv_result_dict['fold_{}_scores'.format(fold)].append(score)\n",
    "        \n",
    "    cv_result_dict['params'].append((rand_C, rand_penalty))\n",
    "    cv_result_dict['mean_fit_times'].append(round(np.array(this_param_fit_times).mean(), 5))\n",
    "    cv_result_dict['mean_scores'].append(round(np.array(this_param_scores).mean(), 3))\n",
    "    cv_result_dict['scores_std'].append(round(np.array(this_param_scores).std(), 3))"
   ]
  },
  {
   "cell_type": "code",
   "execution_count": 10,
   "metadata": {},
   "outputs": [],
   "source": [
    "# makes it look better with Jupyter Notebook\n",
    "for key in cv_result_dict:\n",
    "    if key == \"params\":\n",
    "        continue\n",
    "    else:\n",
    "        cv_result_dict[key] = np.array(cv_result_dict[key])"
   ]
  },
  {
   "cell_type": "code",
   "execution_count": 11,
   "metadata": {
    "scrolled": false
   },
   "outputs": [
    {
     "data": {
      "text/plain": [
       "{'params': [(3.6327304745227678, 'l2'),\n",
       "  (1.9598684174613061, 'l1'),\n",
       "  (2.1023852441807342, 'l1'),\n",
       "  (3.130910174464849, 'l2'),\n",
       "  (2.323004382622702, 'l1'),\n",
       "  (3.724729382721508, 'l1'),\n",
       "  (2.139763843198466, 'l1'),\n",
       "  (0.9310307713046209, 'l2'),\n",
       "  (0.0389955037406815, 'l1'),\n",
       "  (1.7782125513785636, 'l2'),\n",
       "  (2.769594516494197, 'l2'),\n",
       "  (2.206096847913987, 'l2'),\n",
       "  (1.4751289239689114, 'l1'),\n",
       "  (0.4846622346594436, 'l2'),\n",
       "  (0.6737487995125924, 'l1'),\n",
       "  (1.1498937131325744, 'l2'),\n",
       "  (2.645468659900834, 'l2'),\n",
       "  (0.07203715058823157, 'l1'),\n",
       "  (2.4552082841919045, 'l2'),\n",
       "  (0.7889607060151747, 'l1')],\n",
       " 'mean_fit_times': array([0.00534, 0.00462, 0.00447, 0.00388, 0.0042 , 0.00397, 0.00398,\n",
       "        0.00358, 0.00354, 0.00355, 0.00364, 0.00364, 0.00384, 0.00335,\n",
       "        0.00363, 0.00349, 0.00366, 0.00415, 0.00367, 0.00389]),\n",
       " 'fold_0_scores': array([1.  , 1.  , 1.  , 1.  , 1.  , 1.  , 1.  , 0.97, 0.77, 1.  , 1.  ,\n",
       "        1.  , 1.  , 0.93, 1.  , 1.  , 1.  , 0.77, 1.  , 1.  ]),\n",
       " 'fold_1_scores': array([0.97, 0.97, 0.97, 0.97, 0.97, 0.97, 0.97, 0.97, 0.8 , 0.97, 0.97,\n",
       "        0.97, 0.97, 0.97, 0.97, 0.97, 0.97, 0.8 , 0.97, 0.97]),\n",
       " 'fold_2_scores': array([0.93, 0.93, 0.93, 0.93, 0.93, 0.93, 0.93, 0.97, 0.73, 0.93, 0.93,\n",
       "        0.93, 0.97, 0.9 , 0.93, 0.97, 0.93, 0.73, 0.93, 0.97]),\n",
       " 'fold_3_scores': array([0.9 , 0.93, 0.93, 0.9 , 0.93, 0.93, 0.93, 0.9 , 0.8 , 0.9 , 0.9 ,\n",
       "        0.9 , 0.93, 0.9 , 0.9 , 0.9 , 0.9 , 0.8 , 0.9 , 0.9 ]),\n",
       " 'fold_4_scores': array([1.  , 1.  , 1.  , 1.  , 1.  , 1.  , 1.  , 1.  , 0.73, 1.  , 1.  ,\n",
       "        1.  , 1.  , 1.  , 0.97, 1.  , 1.  , 0.77, 1.  , 1.  ]),\n",
       " 'mean_scores': array([0.96 , 0.966, 0.966, 0.96 , 0.966, 0.966, 0.966, 0.962, 0.766,\n",
       "        0.96 , 0.96 , 0.96 , 0.974, 0.94 , 0.954, 0.968, 0.96 , 0.774,\n",
       "        0.96 , 0.968]),\n",
       " 'scores_std': array([0.039, 0.031, 0.031, 0.039, 0.031, 0.031, 0.031, 0.033, 0.031,\n",
       "        0.039, 0.039, 0.039, 0.026, 0.039, 0.035, 0.037, 0.039, 0.026,\n",
       "        0.039, 0.037])}"
      ]
     },
     "execution_count": 11,
     "metadata": {},
     "output_type": "execute_result"
    }
   ],
   "source": [
    "cv_result_dict"
   ]
  },
  {
   "cell_type": "code",
   "execution_count": null,
   "metadata": {},
   "outputs": [],
   "source": []
  }
 ],
 "metadata": {
  "kernelspec": {
   "display_name": "Python 3",
   "language": "python",
   "name": "python3"
  },
  "language_info": {
   "codemirror_mode": {
    "name": "ipython",
    "version": 3
   },
   "file_extension": ".py",
   "mimetype": "text/x-python",
   "name": "python",
   "nbconvert_exporter": "python",
   "pygments_lexer": "ipython3",
   "version": "3.7.6"
  }
 },
 "nbformat": 4,
 "nbformat_minor": 2
}
